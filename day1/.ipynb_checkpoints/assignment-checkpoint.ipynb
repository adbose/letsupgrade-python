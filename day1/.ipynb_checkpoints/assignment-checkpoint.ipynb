{
 "cells": [
  {
   "cell_type": "markdown",
   "metadata": {},
   "source": [
    "### What is Python?"
   ]
  },
  {
   "cell_type": "markdown",
   "metadata": {},
   "source": [
    "Python is an interpreted, high-level, general-purpose programming language created by Guido Van Rossum, and first released in 1991.\n",
    "Python is dynamically typed and garbage-collected. It supports multiple programming paradigms, including structured (particularly, procedural), object-oriented, and functional programming."
   ]
  },
  {
   "cell_type": "markdown",
   "metadata": {},
   "source": [
    "### Installing Python"
   ]
  },
  {
   "cell_type": "markdown",
   "metadata": {},
   "source": [
    "#### Linux/Ubuntu"
   ]
  },
  {
   "cell_type": "markdown",
   "metadata": {},
   "source": [
    "Ubuntu 16.04 or newer versions of Ubuntu ship with both Python 3 and Python 2 pre-installed.\n",
    "To check the version of Python3 installed, run `python3 --version`.\n",
    "You will see an output like this:"
   ]
  },
  {
   "cell_type": "raw",
   "metadata": {},
   "source": [
    "Python 3.5.2"
   ]
  },
  {
   "cell_type": "markdown",
   "metadata": {},
   "source": [
    "To install another or a newer version of Python, first make sure that our versions are up-to-date, and update and upgrade the system with apt-get by running the command `sudo apt-get update`.\n",
    "Then, install the desired version of Python by running `sudeo apt-get install python3.6`."
   ]
  },
  {
   "cell_type": "markdown",
   "metadata": {},
   "source": [
    "If you’re using another version of Ubuntu (e.g. the latest LTS release), it is recommended to use the [deadsnakes PPA](https://launchpad.net/~deadsnakes/+archive/ubuntu/ppa) to install Python 3.6:"
   ]
  },
  {
   "cell_type": "raw",
   "metadata": {},
   "source": [
    "$ sudo apt-get install software-properties-common\n",
    "$ sudo add-apt-repository ppa:deadsnakes/ppa\n",
    "$ sudo apt-get update\n",
    "$ sudo apt-get install python3.6"
   ]
  },
  {
   "cell_type": "markdown",
   "metadata": {},
   "source": [
    "To manage software packages for Python, let’s install pip. We can install by running `sudo apt-get install python3-pip`, but a better way to install is in your local directory because many times, users do not have sudo or root privileges.\n",
    "To install pip for a user, simply download pip from an online repository and installing it by running the downloaded python file with a `--user` flag:"
   ]
  },
  {
   "cell_type": "raw",
   "metadata": {},
   "source": [
    "wget https://bootstrap.pypa.io/get-pip.py && python get-pip.py --user"
   ]
  },
  {
   "cell_type": "markdown",
   "metadata": {},
   "source": [
    "### Python Environments"
   ]
  },
  {
   "cell_type": "markdown",
   "metadata": {},
   "source": [
    "A Python environment is a context in which you run Python code and includes global, virtual, and conda environments. An environment consists of an interpreter, a library (typically the Python Standard Library), and a set of installed packages. These components together determine which language constructs and syntax are valid, what operating-system functionality you can access, and which packages you can use.\n",
    "There are 3 types of environments in Python:\n",
    "- Text editors, example VS Code\n",
    "- Full IDEs, example Spyder, PyCharm\n",
    "- Jupyter Notebooks"
   ]
  }
 ],
 "metadata": {
  "kernelspec": {
   "display_name": "Python 3",
   "language": "python",
   "name": "python3"
  },
  "language_info": {
   "codemirror_mode": {
    "name": "ipython",
    "version": 3
   },
   "file_extension": ".py",
   "mimetype": "text/x-python",
   "name": "python",
   "nbconvert_exporter": "python",
   "pygments_lexer": "ipython3",
   "version": "3.6.9"
  }
 },
 "nbformat": 4,
 "nbformat_minor": 4
}
