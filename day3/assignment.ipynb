{
 "cells": [
  {
   "cell_type": "markdown",
   "metadata": {},
   "source": [
    "### Question 1"
   ]
  },
  {
   "cell_type": "code",
   "execution_count": 1,
   "metadata": {},
   "outputs": [
    {
     "name": "stdout",
     "output_type": "stream",
     "text": [
      "Enter the number of numbers: 5\n",
      "Enter number to add: 12\n",
      "Enter number to add: 12\n",
      "Enter number to add: 12\n",
      "Enter number to add: 12\n",
      "Enter number to add: 12\n",
      "60\n"
     ]
    }
   ],
   "source": [
    "# find sum of n numbers with while loop\n",
    "n = int(input(\"Enter the number of numbers: \"))\n",
    "c = sum = 0\n",
    "while c < n:\n",
    "    inp = int(input(\"Enter number to add: \"))\n",
    "    sum += inp\n",
    "    c += 1\n",
    "print(sum)"
   ]
  },
  {
   "cell_type": "markdown",
   "metadata": {},
   "source": [
    "### Question 2"
   ]
  },
  {
   "cell_type": "code",
   "execution_count": 6,
   "metadata": {},
   "outputs": [
    {
     "name": "stdout",
     "output_type": "stream",
     "text": [
      "Enter number to check for prime: 11\n",
      "Not Prime\n"
     ]
    }
   ],
   "source": [
    "# find if an integer is prime or not\n",
    "n = int(input(\"Enter number to check for prime: \"))\n",
    "factors = 0\n",
    "for each in range(2, n+1):\n",
    "    if n%each==0:\n",
    "        factors += 1\n",
    "if factors==1:\n",
    "    print(\"Prime\")\n",
    "else:\n",
    "    print(\"Not Prime\")"
   ]
  },
  {
   "cell_type": "code",
   "execution_count": null,
   "metadata": {},
   "outputs": [],
   "source": []
  }
 ],
 "metadata": {
  "kernelspec": {
   "display_name": "Python 3",
   "language": "python",
   "name": "python3"
  },
  "language_info": {
   "codemirror_mode": {
    "name": "ipython",
    "version": 3
   },
   "file_extension": ".py",
   "mimetype": "text/x-python",
   "name": "python",
   "nbconvert_exporter": "python",
   "pygments_lexer": "ipython3",
   "version": "3.6.9"
  }
 },
 "nbformat": 4,
 "nbformat_minor": 4
}
